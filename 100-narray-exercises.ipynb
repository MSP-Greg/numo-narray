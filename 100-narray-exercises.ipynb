{
 "cells": [
  {
   "cell_type": "markdown",
   "metadata": {},
   "source": [
    "This is Ruby/Numo::NArray version of\n",
    "[100 numpy exercises](http://www.labri.fr/perso/nrougier/teaching/numpy.100/)\n",
    "([Repository](https://github.com/rougier/numpy-100))"
   ]
  },
  {
   "cell_type": "markdown",
   "metadata": {},
   "source": [
    "#### 1. Import the numpy package under the name `np` (★☆☆)\n",
    "\n",
    "\n",
    "Python:\n",
    "```python\n",
    "import numpy as np\n",
    "```\n",
    "\n",
    "Ruby:"
   ]
  },
  {
   "cell_type": "code",
   "execution_count": 1,
   "metadata": {
    "collapsed": false
   },
   "outputs": [
    {
     "data": {
      "text/plain": [
       "true"
      ]
     },
     "execution_count": 1,
     "metadata": {},
     "output_type": "execute_result"
    }
   ],
   "source": [
    "require \"numo/narray\""
   ]
  },
  {
   "cell_type": "markdown",
   "metadata": {},
   "source": [
    "#### 2. Print the numpy version and the configuration (★☆☆)\n",
    "\n",
    "\n",
    "Python:\n",
    "```python\n",
    "print(np.__version__)\n",
    "np.show_config()\n",
    "```\n",
    "\n",
    "Ruby:"
   ]
  },
  {
   "cell_type": "code",
   "execution_count": 2,
   "metadata": {
    "collapsed": false
   },
   "outputs": [
    {
     "name": "stdout",
     "output_type": "stream",
     "text": [
      "\"0.9.0.2\"\n"
     ]
    },
    {
     "data": {
      "text/plain": [
       "\"0.9.0.2\""
      ]
     },
     "execution_count": 2,
     "metadata": {},
     "output_type": "execute_result"
    }
   ],
   "source": [
    "p Numo::NArray::VERSION"
   ]
  },
  {
   "cell_type": "markdown",
   "metadata": {},
   "source": [
    "#### 3. Create a null vector of size 10 (★☆☆)\n",
    "\n",
    "\n",
    "Python:\n",
    "```python\n",
    "Z = np.zeros(10)\n",
    "print(Z)\n",
    "```\n",
    "\n",
    "Ruby:"
   ]
  },
  {
   "cell_type": "code",
   "execution_count": 3,
   "metadata": {
    "collapsed": false
   },
   "outputs": [
    {
     "name": "stdout",
     "output_type": "stream",
     "text": [
      "Numo::DFloat#shape=[10]\n",
      "[0, 0, 0, 0, 0, 0, 0, 0, 0, 0]\n"
     ]
    },
    {
     "data": {
      "text/plain": [
       "Numo::DFloat#shape=[10]\n",
       "[0, 0, 0, 0, 0, 0, 0, 0, 0, 0]"
      ]
     },
     "execution_count": 3,
     "metadata": {},
     "output_type": "execute_result"
    }
   ],
   "source": [
    "z = Numo::DFloat.zeros(10)\n",
    "p z"
   ]
  },
  {
   "cell_type": "markdown",
   "metadata": {},
   "source": [
    "#### 4.  How to find the memory size of any array (★☆☆)\n",
    "\n",
    "\n",
    "Python:\n",
    "```python\n",
    "Z = np.zeros((10,10))\n",
    "print(\"%d bytes\" % (Z.size * Z.itemsize))\n",
    "```\n",
    "\n",
    "Ruby:"
   ]
  },
  {
   "cell_type": "code",
   "execution_count": 4,
   "metadata": {
    "collapsed": false
   },
   "outputs": [
    {
     "name": "stdout",
     "output_type": "stream",
     "text": [
      "800 bytes"
     ]
    }
   ],
   "source": [
    "z = Numo::DFloat.zeros(10,10)\n",
    "printf \"%d bytes\", z.byte_size"
   ]
  },
  {
   "cell_type": "markdown",
   "metadata": {},
   "source": [
    "#### 6.  Create a null vector of size 10 but the fifth value which is 1 (★☆☆)\n",
    "\n",
    "\n",
    "Python:\n",
    "```python\n",
    "Z = np.zeros(10)\n",
    "Z[4] = 1\n",
    "print(Z)\n",
    "```\n",
    "\n",
    "Ruby:"
   ]
  },
  {
   "cell_type": "code",
   "execution_count": 2,
   "metadata": {
    "collapsed": false
   },
   "outputs": [
    {
     "name": "stdout",
     "output_type": "stream",
     "text": [
      "Numo::DFloat#shape=[10]\n",
      "[0, 0, 0, 0, 1, 0, 0, 0, 0, 0]\n"
     ]
    },
    {
     "data": {
      "text/plain": [
       "Numo::DFloat#shape=[10]\n",
       "[0, 0, 0, 0, 1, 0, 0, 0, 0, 0]"
      ]
     },
     "execution_count": 2,
     "metadata": {},
     "output_type": "execute_result"
    }
   ],
   "source": [
    "z = Numo::DFloat.zeros(10)\n",
    "z[4] = 1\n",
    "p z"
   ]
  },
  {
   "cell_type": "markdown",
   "metadata": {
    "collapsed": true
   },
   "source": [
    "#### 7.  Create a vector with values ranging from 10 to 49 (★☆☆)\n",
    "\n",
    "\n",
    "Python:\n",
    "```python\n",
    "Z = np.arange(10,50)\n",
    "print(Z)\n",
    "```\n",
    "\n",
    "Ruby:"
   ]
  },
  {
   "cell_type": "code",
   "execution_count": 3,
   "metadata": {
    "collapsed": false
   },
   "outputs": [
    {
     "name": "stdout",
     "output_type": "stream",
     "text": [
      "Numo::DFloat#shape=[40]\n",
      "[10, 11, 12, 13, 14, 15, 16, 17, 18, 19, 20, 21, 22, 23, 24, 25, 26, 27, ...]\n"
     ]
    },
    {
     "data": {
      "text/plain": [
       "Numo::DFloat#shape=[40]\n",
       "[10, 11, 12, 13, 14, 15, 16, 17, 18, 19, 20, 21, 22, 23, 24, 25, 26, 27, ...]"
      ]
     },
     "execution_count": 3,
     "metadata": {},
     "output_type": "execute_result"
    }
   ],
   "source": [
    "z = Numo::DFloat[10..49]\n",
    "p z"
   ]
  },
  {
   "cell_type": "markdown",
   "metadata": {},
   "source": [
    "#### 8.  Reverse a vector (first element becomes last) (★☆☆)\n",
    "\n",
    "\n",
    "Python:\n",
    "```python\n",
    "Z = np.arange(50)\n",
    "Z = Z[::-1]\n",
    "print(Z)\n",
    "```\n",
    "\n",
    "Ruby:"
   ]
  },
  {
   "cell_type": "code",
   "execution_count": 4,
   "metadata": {
    "collapsed": false
   },
   "outputs": [
    {
     "data": {
      "text/plain": [
       "Numo::Int32(view)#shape=[50]\n",
       "[49, 48, 47, 46, 45, 44, 43, 42, 41, 40, 39, 38, 37, 36, 35, 34, 33, 32, ...]"
      ]
     },
     "execution_count": 4,
     "metadata": {},
     "output_type": "execute_result"
    }
   ],
   "source": [
    "z = Numo::Int32.new(50).seq\n",
    "z = z.reverse"
   ]
  },
  {
   "cell_type": "markdown",
   "metadata": {},
   "source": [
    "#### 9.  Create a 3x3 matrix with values ranging from 0 to 8 (★☆☆)\n",
    "\n",
    "\n",
    "Python:\n",
    "```python\n",
    "Z = np.arange(9).reshape(3,3)\n",
    "print(Z)\n",
    "```\n",
    "\n",
    "Ruby:"
   ]
  },
  {
   "cell_type": "code",
   "execution_count": 5,
   "metadata": {
    "collapsed": false
   },
   "outputs": [
    {
     "name": "stdout",
     "output_type": "stream",
     "text": [
      "Numo::Int32#shape=[3,3]\n",
      "[[0, 1, 2], \n",
      " [3, 4, 5], \n",
      " [6, 7, 8]]\n"
     ]
    },
    {
     "data": {
      "text/plain": [
       "Numo::Int32#shape=[3,3]\n",
       "[[0, 1, 2], \n",
       " [3, 4, 5], \n",
       " [6, 7, 8]]"
      ]
     },
     "execution_count": 5,
     "metadata": {},
     "output_type": "execute_result"
    }
   ],
   "source": [
    "z = Numo::Int32.new(3,3).seq\n",
    "p z"
   ]
  },
  {
   "cell_type": "markdown",
   "metadata": {},
   "source": [
    "#### 10. Find indices of non-zero elements from \\[1,2,0,0,4,0\\] (★☆☆)\n",
    "\n",
    "\n",
    "Python:\n",
    "```python\n",
    "nz = np.nonzero([1,2,0,0,4,0])\n",
    "print(nz)\n",
    "```\n",
    "\n",
    "Ruby:"
   ]
  },
  {
   "cell_type": "code",
   "execution_count": 6,
   "metadata": {
    "collapsed": false
   },
   "outputs": [
    {
     "name": "stdout",
     "output_type": "stream",
     "text": [
      "Numo::Int32#shape=[3]\n",
      "[0, 1, 4]\n"
     ]
    },
    {
     "data": {
      "text/plain": [
       "Numo::Int32#shape=[3]\n",
       "[0, 1, 4]"
      ]
     },
     "execution_count": 6,
     "metadata": {},
     "output_type": "execute_result"
    }
   ],
   "source": [
    "nz = Numo::NArray[1,2,0,0,4,0].ne(0).where\n",
    "p nz"
   ]
  },
  {
   "cell_type": "markdown",
   "metadata": {},
   "source": [
    "#### 11. Create a 3x3 identity matrix (★☆☆)\n",
    "\n",
    "\n",
    "Python:\n",
    "```python\n",
    "Z = np.eye(3)\n",
    "print(Z)\n",
    "```\n",
    "\n",
    "Ruby:"
   ]
  },
  {
   "cell_type": "code",
   "execution_count": 7,
   "metadata": {
    "collapsed": false
   },
   "outputs": [
    {
     "name": "stdout",
     "output_type": "stream",
     "text": [
      "Numo::DFloat#shape=[3,3]\n",
      "[[1, 0, 0], \n",
      " [0, 1, 0], \n",
      " [0, 0, 1]]\n"
     ]
    },
    {
     "data": {
      "text/plain": [
       "Numo::DFloat#shape=[3,3]\n",
       "[[1, 0, 0], \n",
       " [0, 1, 0], \n",
       " [0, 0, 1]]"
      ]
     },
     "execution_count": 7,
     "metadata": {},
     "output_type": "execute_result"
    }
   ],
   "source": [
    "z = Numo::DFloat.eye(3)\n",
    "p z"
   ]
  },
  {
   "cell_type": "markdown",
   "metadata": {},
   "source": [
    "#### 12. Create a 3x3x3 array with random values (★☆☆)\n",
    "\n",
    "\n",
    "Python:\n",
    "```python\n",
    "Z = np.random.random((3,3,3))\n",
    "print(Z)\n",
    "```\n",
    "\n",
    "Ruby:"
   ]
  },
  {
   "cell_type": "code",
   "execution_count": 8,
   "metadata": {
    "collapsed": false
   },
   "outputs": [
    {
     "name": "stdout",
     "output_type": "stream",
     "text": [
      "Numo::DFloat#shape=[3,3,3]\n",
      "[[[0.0617545, 0.373067, 0.794815], \n",
      "  [0.201042, 0.116041, 0.344032], \n",
      "  [0.539948, 0.737815, 0.165089]], \n",
      " [[0.0508827, 0.108065, 0.0687079], \n",
      "  [0.904121, 0.478644, 0.342969], \n",
      "  [0.164541, 0.74603, 0.138994]], \n",
      " [[0.411576, 0.292532, 0.869421], \n",
      "  [0.0854984, 0.688965, 0.159977], \n",
      "  [0.279215, 0.625155, 0.676329]]]\n"
     ]
    },
    {
     "data": {
      "text/plain": [
       "Numo::DFloat#shape=[3,3,3]\n",
       "[[[0.0617545, 0.373067, 0.794815], \n",
       "  [0.201042, 0.116041, 0.344032], \n",
       "  [0.539948, 0.737815, 0.165089]], \n",
       " [[0.0508827, 0.108065, 0.0687079], \n",
       "  [0.904121, 0.478644, 0.342969], \n",
       "  [0.164541, 0.74603, 0.138994]], \n",
       " [[0.411576, 0.292532, 0.869421], \n",
       "  [0.0854984, 0.688965, 0.159977], \n",
       "  [0.279215, 0.625155, 0.676329]]]"
      ]
     },
     "execution_count": 8,
     "metadata": {},
     "output_type": "execute_result"
    }
   ],
   "source": [
    "z = Numo::DFloat.new(3,3,3).rand\n",
    "p z"
   ]
  },
  {
   "cell_type": "markdown",
   "metadata": {},
   "source": [
    "#### 13. Create a 10x10 array with random values and find the minimum and maximum values (★☆☆)\n",
    "\n",
    "\n",
    "Python:\n",
    "```python\n",
    "Z = np.random.random((10,10))\n",
    "Zmin, Zmax = Z.min(), Z.max()\n",
    "print(Zmin, Zmax)\n",
    "```\n",
    "\n",
    "Ruby:"
   ]
  },
  {
   "cell_type": "code",
   "execution_count": 10,
   "metadata": {
    "collapsed": false
   },
   "outputs": [
    {
     "name": "stdout",
     "output_type": "stream",
     "text": [
      "0.002701878465693965\n",
      "0.995590771731077\n"
     ]
    },
    {
     "data": {
      "text/plain": [
       "[0.002701878465693965, 0.995590771731077]"
      ]
     },
     "execution_count": 10,
     "metadata": {},
     "output_type": "execute_result"
    }
   ],
   "source": [
    "z = Numo::DFloat.new(10,10).rand\n",
    "zmin, zmax = z.minmax\n",
    "p zmin, zmax"
   ]
  },
  {
   "cell_type": "code",
   "execution_count": null,
   "metadata": {
    "collapsed": true
   },
   "outputs": [],
   "source": []
  }
 ],
 "metadata": {
  "kernelspec": {
   "display_name": "Ruby 2.1.5",
   "language": "ruby",
   "name": "ruby"
  },
  "language_info": {
   "file_extension": ".rb",
   "mimetype": "application/x-ruby",
   "name": "ruby",
   "version": "2.1.5"
  }
 },
 "nbformat": 4,
 "nbformat_minor": 0
}
