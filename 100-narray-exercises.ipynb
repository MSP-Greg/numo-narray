{
 "cells": [
  {
   "cell_type": "markdown",
   "metadata": {},
   "source": [
    "This is Ruby/Numo::NArray version of\n",
    "[100 numpy exercises](http://www.labri.fr/perso/nrougier/teaching/numpy.100/)\n",
    "([Repository](https://github.com/rougier/numpy-100))"
   ]
  },
  {
   "cell_type": "markdown",
   "metadata": {},
   "source": [
    "#### 1. Import the numpy package under the name `np` (★☆☆)\n",
    "\n",
    "\n",
    "Python:\n",
    "```python\n",
    "import numpy as np\n",
    "```\n",
    "\n",
    "Ruby:"
   ]
  },
  {
   "cell_type": "code",
   "execution_count": 1,
   "metadata": {
    "collapsed": false
   },
   "outputs": [
    {
     "data": {
      "text/plain": [
       "true"
      ]
     },
     "execution_count": 1,
     "metadata": {},
     "output_type": "execute_result"
    }
   ],
   "source": [
    "require \"numo/narray\""
   ]
  },
  {
   "cell_type": "markdown",
   "metadata": {},
   "source": [
    "#### 2. Print the numpy version and the configuration (★☆☆)\n",
    "\n",
    "\n",
    "Python:\n",
    "```python\n",
    "print(np.__version__)\n",
    "np.show_config()\n",
    "```\n",
    "\n",
    "Ruby:"
   ]
  },
  {
   "cell_type": "code",
   "execution_count": 2,
   "metadata": {
    "collapsed": false
   },
   "outputs": [
    {
     "name": "stdout",
     "output_type": "stream",
     "text": [
      "\"0.9.0.2\"\n"
     ]
    },
    {
     "data": {
      "text/plain": [
       "\"0.9.0.2\""
      ]
     },
     "execution_count": 2,
     "metadata": {},
     "output_type": "execute_result"
    }
   ],
   "source": [
    "p Numo::NArray::VERSION"
   ]
  },
  {
   "cell_type": "markdown",
   "metadata": {},
   "source": [
    "#### 3. Create a null vector of size 10 (★☆☆)\n",
    "\n",
    "\n",
    "Python:\n",
    "```python\n",
    "Z = np.zeros(10)\n",
    "print(Z)\n",
    "```\n",
    "\n",
    "Ruby:"
   ]
  },
  {
   "cell_type": "code",
   "execution_count": 3,
   "metadata": {
    "collapsed": false
   },
   "outputs": [
    {
     "name": "stdout",
     "output_type": "stream",
     "text": [
      "Numo::DFloat#shape=[10]\n",
      "[0, 0, 0, 0, 0, 0, 0, 0, 0, 0]\n"
     ]
    },
    {
     "data": {
      "text/plain": [
       "Numo::DFloat#shape=[10]\n",
       "[0, 0, 0, 0, 0, 0, 0, 0, 0, 0]"
      ]
     },
     "execution_count": 3,
     "metadata": {},
     "output_type": "execute_result"
    }
   ],
   "source": [
    "z = Numo::DFloat.zeros(10)\n",
    "p z"
   ]
  },
  {
   "cell_type": "markdown",
   "metadata": {},
   "source": [
    "#### 4.  How to find the memory size of any array (★☆☆)\n",
    "\n",
    "\n",
    "Python:\n",
    "```python\n",
    "Z = np.zeros((10,10))\n",
    "print(\"%d bytes\" % (Z.size * Z.itemsize))\n",
    "```\n",
    "\n",
    "Ruby:"
   ]
  },
  {
   "cell_type": "code",
   "execution_count": 4,
   "metadata": {
    "collapsed": false
   },
   "outputs": [
    {
     "name": "stdout",
     "output_type": "stream",
     "text": [
      "800 bytes"
     ]
    }
   ],
   "source": [
    "z = Numo::DFloat.zeros(10,10)\n",
    "printf \"%d bytes\", z.byte_size"
   ]
  },
  {
   "cell_type": "markdown",
   "metadata": {},
   "source": [
    "#### 5.  How to get the documentation of the numpy add function from the command line? (★☆☆)\n",
    "\n",
    "Python:\n",
    "\n",
    "$ `python -c \"import numpy; numpy.info(numpy.add)\"`\n",
    "\n",
    "Ruby:"
   ]
  },
  {
   "cell_type": "code",
   "execution_count": 5,
   "metadata": {
    "collapsed": false
   },
   "outputs": [
    {
     "name": "stdout",
     "output_type": "stream",
     "text": [
      "error: 'Numo' not found\n"
     ]
    }
   ],
   "source": [
    "ri 'Numo::DFloat#+'"
   ]
  },
  {
   "cell_type": "code",
   "execution_count": null,
   "metadata": {
    "collapsed": true
   },
   "outputs": [],
   "source": []
  }
 ],
 "metadata": {
  "kernelspec": {
   "display_name": "Ruby 2.1.5",
   "language": "ruby",
   "name": "ruby"
  },
  "language_info": {
   "file_extension": ".rb",
   "mimetype": "application/x-ruby",
   "name": "ruby",
   "version": "2.1.5"
  }
 },
 "nbformat": 4,
 "nbformat_minor": 0
}
